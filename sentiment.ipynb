{
  "nbformat": 4,
  "nbformat_minor": 0,
  "metadata": {
    "colab": {
      "provenance": []
    },
    "kernelspec": {
      "name": "python3",
      "display_name": "Python 3"
    },
    "language_info": {
      "name": "python"
    }
  },
  "cells": [
    {
      "cell_type": "code",
      "execution_count": 5,
      "metadata": {
        "colab": {
          "base_uri": "https://localhost:8080/"
        },
        "id": "qV2K84Di9eEp",
        "outputId": "bfa19fcc-c3b6-44c8-c293-93301ff5f810"
      },
      "outputs": [
        {
          "output_type": "stream",
          "name": "stdout",
          "text": [
            "Requirement already satisfied: nltk in /usr/local/lib/python3.11/dist-packages (3.9.1)\n",
            "Requirement already satisfied: click in /usr/local/lib/python3.11/dist-packages (from nltk) (8.2.0)\n",
            "Requirement already satisfied: joblib in /usr/local/lib/python3.11/dist-packages (from nltk) (1.5.0)\n",
            "Requirement already satisfied: regex>=2021.8.3 in /usr/local/lib/python3.11/dist-packages (from nltk) (2024.11.6)\n",
            "Requirement already satisfied: tqdm in /usr/local/lib/python3.11/dist-packages (from nltk) (4.67.1)\n"
          ]
        }
      ],
      "source": [
        "!pip install nltk"
      ]
    },
    {
      "cell_type": "code",
      "source": [
        "import nltk\n",
        "nltk.download('vader_lexicon')"
      ],
      "metadata": {
        "colab": {
          "base_uri": "https://localhost:8080/"
        },
        "id": "u3HtCNxJ-lV_",
        "outputId": "a790454c-a107-4776-eebb-bb547ec5f381"
      },
      "execution_count": 6,
      "outputs": [
        {
          "output_type": "stream",
          "name": "stderr",
          "text": [
            "[nltk_data] Downloading package vader_lexicon to /root/nltk_data...\n",
            "[nltk_data]   Package vader_lexicon is already up-to-date!\n"
          ]
        },
        {
          "output_type": "execute_result",
          "data": {
            "text/plain": [
              "True"
            ]
          },
          "metadata": {},
          "execution_count": 6
        }
      ]
    },
    {
      "cell_type": "code",
      "source": [
        "import pandas as pd\n",
        "from nltk.sentiment import SentimentIntensityAnalyzer\n",
        "import nltk\n",
        "\n",
        "# Download VADER if not already\n",
        "nltk.download('vader_lexicon')\n",
        "\n",
        "# Load the CSV file\n",
        "df = pd.read_csv('TestReviews.csv')  # Make sure this file exists in the same directory\n",
        "\n",
        "# Inspect the dataset\n",
        "print(df.head())\n",
        "\n",
        "# Initialize the VADER sentiment analyzer\n",
        "sia = SentimentIntensityAnalyzer()\n",
        "\n",
        "# Define a function to get sentiment label\n",
        "def get_sentiment(text):\n",
        "    score = sia.polarity_scores(str(text))['compound']\n",
        "    if score >= 0.05:\n",
        "        return \"Positive\"\n",
        "    elif score <= -0.05:\n",
        "        return \"Negative\"\n",
        "    else:\n",
        "        return \"Neutral\"\n",
        "\n",
        "# Apply the sentiment analysis\n",
        "df['Sentiment'] = df['review'].apply(get_sentiment)\n",
        "\n",
        "# Optional: View results\n",
        "print(df[['review', 'Sentiment']].head())\n",
        "\n",
        "# Save to new CSV\n",
        "df.to_csv('reviews_with_sentiment.csv', index=False)\n"
      ],
      "metadata": {
        "colab": {
          "base_uri": "https://localhost:8080/"
        },
        "id": "XgkKci-H-3Jr",
        "outputId": "674ee91b-cd7c-459c-cca9-a2b336a64847"
      },
      "execution_count": 7,
      "outputs": [
        {
          "output_type": "stream",
          "name": "stderr",
          "text": [
            "[nltk_data] Downloading package vader_lexicon to /root/nltk_data...\n",
            "[nltk_data]   Package vader_lexicon is already up-to-date!\n"
          ]
        },
        {
          "output_type": "stream",
          "name": "stdout",
          "text": [
            "                                              review  class\n",
            "0  Fantastic spot for an even or a quite cocktail...      1\n",
            "1  Love, love, love the calamari. It's so good an...      1\n",
            "2  Love this place. Stiff martinis and cocktails,...      1\n",
            "3  It's everything a great cocktail bar should be...      1\n",
            "4  I came here before a pirates game, so it was a...      1\n",
            "                                              review Sentiment\n",
            "0  Fantastic spot for an even or a quite cocktail...  Positive\n",
            "1  Love, love, love the calamari. It's so good an...  Positive\n",
            "2  Love this place. Stiff martinis and cocktails,...  Positive\n",
            "3  It's everything a great cocktail bar should be...  Positive\n",
            "4  I came here before a pirates game, so it was a...  Positive\n"
          ]
        }
      ]
    }
  ]
}